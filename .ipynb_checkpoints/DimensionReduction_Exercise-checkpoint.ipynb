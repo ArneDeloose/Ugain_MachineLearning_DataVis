{
 "cells": [
  {
   "cell_type": "markdown",
   "metadata": {},
   "source": [
    "# Dimensionaliteitsreductie\n",
    "\n",
    "@author: Jan Verwaeren - Arne Deloose\n",
    "\n",
    "@course: Machine learning: van theorie tot praktijk\n",
    "\n",
    "Deze notbook bevat enkele illustraties van frequent gebruikte dimensionaliteitsreductietechnieken:\n",
    "- (kernel) principale componenten analyse\n",
    "- (metric) Multidimensional scaling\n"
   ]
  },
  {
   "cell_type": "markdown",
   "metadata": {},
   "source": [
    "## 1. ILLUSTRATIE: (kernel) principale componenten analyse (PCA)\n",
    "\n",
    "******\n",
    "\n",
    "In deze sectie wordt PCA geïllustreerd op enkele datasets. We gebruiken daarbij de.\n",
    "\n",
    "- iris dataset\n",
    "- olympic dataset"
   ]
  },
  {
   "cell_type": "markdown",
   "metadata": {},
   "source": [
    "**Inladen nodige libraries en enkele handige visualisatiefuncties**"
   ]
  },
  {
   "cell_type": "code",
   "execution_count": 32,
   "metadata": {},
   "outputs": [],
   "source": [
    "import pandas as pd                                # pandas dataframes\n",
    "import numpy as np                                 # numpy datastructuur voor homogene arrays (matrices)\n",
    "from sklearn.preprocessing import StandardScaler   # scikit learn: tools voor standaardiseren data (gemiddelde=0 en stdev=1)\n",
    "from sklearn.decomposition import PCA, KernelPCA   # scikit learn: klasses voor (kernel)PCA\n",
    "\n",
    "import matplotlib.pyplot as plt                    # visualisatiebibliotheken\n",
    "import plotnine\n",
    "from plotnine import *\n",
    "from plotnine.data import *\n",
    "\n",
    "#zelf gedefinieerde functies\n",
    "\n",
    "def scree_plot(pca_model):\n",
    "    \"\"\" genereert scree plot op basis van een gefit PCA model (argument is PCA-object, na fitten) \"\"\"\n",
    "    PC_values = np.arange(pca_model.n_components_) + 1\n",
    "    plt.plot(PC_values, pca_model.explained_variance_ratio_, 'ro-', linewidth=2)\n",
    "    plt.title('Scree Plot')\n",
    "    plt.xlabel('Principal Component')\n",
    "    plt.ylabel('Proportion of Variance Explained')\n",
    "    return()\n",
    "\n",
    "def biplot_func(score, pca_model, labels=None, y=None, show_index=False):\n",
    "    \"\"\" genereert biplot, met argumenten:\n",
    "         - score: de scores (twee eerste PC) die men wenst te visualiseren\n",
    "         - pca_model: PCA-object, na fitten\n",
    "         - labels: labels van PCs die als naam worden weergegeven\n",
    "         - y: numerical vector, length equal to the number of observations used for color-coding the datapoints\n",
    "         - show_index: geeft aan of de indices van de objecten bij de scores worden getoond\n",
    "    \"\"\"\n",
    "    coeff=np.transpose(pca_model.components_[0:2, :]).copy()\n",
    "    xs = score[:, 0]\n",
    "    ys = score[:, 1]\n",
    "    n = coeff.shape[0]\n",
    "    coeff[:, 0] = coeff[:,0]*xs.std()*np.sqrt(len(xs))\n",
    "    coeff[:, 1] = coeff[:,1]*ys.std()*np.sqrt(len(ys))\n",
    "    fig, ax = plt.subplots()\n",
    "    im = ax.scatter(xs, ys, c = y) #use y as color\n",
    "    if show_index:\n",
    "        for i in range(len(xs)):\n",
    "            ax.text(xs[i], ys[i], i+1)\n",
    "    if not y is None:\n",
    "        fig.colorbar(im, ax=ax)\n",
    "    for i in range(n):\n",
    "        ax.arrow(0, 0, coeff[i, 0], coeff[i,1], color = 'r',alpha = 0.5)\n",
    "        if labels is None:\n",
    "            ax.text(1.1*coeff[i,0], 1.1*coeff[i,1], \"Var\"+str(i+1), color = 'g', ha = 'center', va = 'center')\n",
    "        else:\n",
    "            ax.text(1.1*coeff[i,0], 1.1*coeff[i,1], labels[i], color = 'g', ha = 'center', va = 'center')           \n",
    "    ax.set_xlim(1.2*min(np.min(coeff[:, 0]), np.min(xs)), 1.2*max(np.max(coeff[:, 0]), np.max(xs)))\n",
    "    ax.set_ylim(1.2*min(np.min(coeff[:, 1]), np.min(ys)), 1.2*max(np.max(coeff[:, 1]), np.max(ys)))\n",
    "    ax.set_xlabel(\"PC{}\".format(1))\n",
    "    ax.set_ylabel(\"PC{}\".format(2))\n",
    "    ax.grid()\n",
    "    return(fig, ax)"
   ]
  },
  {
   "cell_type": "markdown",
   "metadata": {},
   "source": [
    "**STAP 1: Inladen iris dataset**"
   ]
  },
  {
   "cell_type": "code",
   "execution_count": 8,
   "metadata": {},
   "outputs": [
    {
     "data": {
      "text/html": [
       "<div>\n",
       "<style scoped>\n",
       "    .dataframe tbody tr th:only-of-type {\n",
       "        vertical-align: middle;\n",
       "    }\n",
       "\n",
       "    .dataframe tbody tr th {\n",
       "        vertical-align: top;\n",
       "    }\n",
       "\n",
       "    .dataframe thead th {\n",
       "        text-align: right;\n",
       "    }\n",
       "</style>\n",
       "<table border=\"1\" class=\"dataframe\">\n",
       "  <thead>\n",
       "    <tr style=\"text-align: right;\">\n",
       "      <th></th>\n",
       "      <th>sepal length</th>\n",
       "      <th>sepal width</th>\n",
       "      <th>petal length</th>\n",
       "      <th>petal width</th>\n",
       "      <th>soort</th>\n",
       "    </tr>\n",
       "  </thead>\n",
       "  <tbody>\n",
       "    <tr>\n",
       "      <th>0</th>\n",
       "      <td>5.1</td>\n",
       "      <td>3.5</td>\n",
       "      <td>1.4</td>\n",
       "      <td>0.2</td>\n",
       "      <td>setosa</td>\n",
       "    </tr>\n",
       "    <tr>\n",
       "      <th>1</th>\n",
       "      <td>4.9</td>\n",
       "      <td>3.0</td>\n",
       "      <td>1.4</td>\n",
       "      <td>0.2</td>\n",
       "      <td>setosa</td>\n",
       "    </tr>\n",
       "    <tr>\n",
       "      <th>2</th>\n",
       "      <td>4.7</td>\n",
       "      <td>3.2</td>\n",
       "      <td>1.3</td>\n",
       "      <td>0.2</td>\n",
       "      <td>setosa</td>\n",
       "    </tr>\n",
       "    <tr>\n",
       "      <th>3</th>\n",
       "      <td>4.6</td>\n",
       "      <td>3.1</td>\n",
       "      <td>1.5</td>\n",
       "      <td>0.2</td>\n",
       "      <td>setosa</td>\n",
       "    </tr>\n",
       "    <tr>\n",
       "      <th>4</th>\n",
       "      <td>5.0</td>\n",
       "      <td>3.6</td>\n",
       "      <td>1.4</td>\n",
       "      <td>0.2</td>\n",
       "      <td>setosa</td>\n",
       "    </tr>\n",
       "  </tbody>\n",
       "</table>\n",
       "</div>"
      ],
      "text/plain": [
       "   sepal length  sepal width  petal length  petal width   soort\n",
       "0           5.1          3.5           1.4          0.2  setosa\n",
       "1           4.9          3.0           1.4          0.2  setosa\n",
       "2           4.7          3.2           1.3          0.2  setosa\n",
       "3           4.6          3.1           1.5          0.2  setosa\n",
       "4           5.0          3.6           1.4          0.2  setosa"
      ]
     },
     "execution_count": 8,
     "metadata": {},
     "output_type": "execute_result"
    }
   ],
   "source": [
    "url='https://raw.githubusercontent.com/ArneDeloose/Ugain_MachineLearning_DataVis/main/iris.csv' #raw github link\n",
    "df=pd.read_csv(url, sep = \";\")\n",
    "df.head()"
   ]
  },
  {
   "cell_type": "markdown",
   "metadata": {},
   "source": [
    "**STAP 2: Extraheren numerieke variabelen en schalen van de data**"
   ]
  },
  {
   "cell_type": "code",
   "execution_count": 13,
   "metadata": {},
   "outputs": [],
   "source": [
    "X = np.array(df.iloc[:,:4])\n",
    "scaler = StandardScaler()\n",
    "scaler.fit(X)\n",
    "X=scaler.transform(X)      # gemiddelde 0 en stdev 1 voor elke variabele"
   ]
  },
  {
   "cell_type": "markdown",
   "metadata": {},
   "source": [
    "**STAP 3: Toepassen PCA**"
   ]
  },
  {
   "cell_type": "code",
   "execution_count": 15,
   "metadata": {},
   "outputs": [],
   "source": [
    "pca_model = PCA()                   # genereren PCA object\n",
    "x_new = pca_model.fit_transform(X)  # berekenen scores en loadings (x_new bevat de scores, de loadings kan je terugvinden\n",
    "                                    # in pca_model.components_)"
   ]
  },
  {
   "cell_type": "markdown",
   "metadata": {},
   "source": [
    "**STAP 4: Visualiseren scores**"
   ]
  },
  {
   "cell_type": "code",
   "execution_count": 18,
   "metadata": {},
   "outputs": [
    {
     "data": {
      "image/png": "[encoded data removed]",
      "text/plain": [
       "<Figure size 640x480 with 1 Axes>"
      ]
     },
     "metadata": {},
     "output_type": "display_data"
    },
    {
     "data": {
      "text/plain": [
       "<ggplot: (-9223371862518430644)>"
      ]
     },
     "execution_count": 18,
     "metadata": {},
     "output_type": "execute_result"
    }
   ],
   "source": [
    "# PCA scores en soort-labels samenvatten in een pandas dataframe\n",
    "df_pca = pd.DataFrame(x_new[:, 0:2], columns = [\"PC1\", \"PC2\"])\n",
    "df_pca[\"soort\"] = df[\"soort\"]\n",
    "\n",
    "# visualisatie met ggplot/plotnine\n",
    "ggplot(df_pca, aes(x = \"PC1\", y = \"PC2\", color = \"soort\")) +\\\n",
    "    geom_point() +\\\n",
    "    theme_bw()"
   ]
  },
  {
   "cell_type": "markdown",
   "metadata": {},
   "source": [
    "**STAP 5: bekijken loadings**"
   ]
  },
  {
   "cell_type": "code",
   "execution_count": 26,
   "metadata": {},
   "outputs": [
    {
     "data": {
      "text/html": [
       "<div>\n",
       "<style scoped>\n",
       "    .dataframe tbody tr th:only-of-type {\n",
       "        vertical-align: middle;\n",
       "    }\n",
       "\n",
       "    .dataframe tbody tr th {\n",
       "        vertical-align: top;\n",
       "    }\n",
       "\n",
       "    .dataframe thead th {\n",
       "        text-align: right;\n",
       "    }\n",
       "</style>\n",
       "<table border=\"1\" class=\"dataframe\">\n",
       "  <thead>\n",
       "    <tr style=\"text-align: right;\">\n",
       "      <th></th>\n",
       "      <th>PC1</th>\n",
       "      <th>PC2</th>\n",
       "      <th>variabelen</th>\n",
       "    </tr>\n",
       "  </thead>\n",
       "  <tbody>\n",
       "    <tr>\n",
       "      <th>0</th>\n",
       "      <td>0.521066</td>\n",
       "      <td>0.377418</td>\n",
       "      <td>sepal length</td>\n",
       "    </tr>\n",
       "    <tr>\n",
       "      <th>1</th>\n",
       "      <td>-0.269347</td>\n",
       "      <td>0.923296</td>\n",
       "      <td>sepal width</td>\n",
       "    </tr>\n",
       "    <tr>\n",
       "      <th>2</th>\n",
       "      <td>0.580413</td>\n",
       "      <td>0.024492</td>\n",
       "      <td>petal length</td>\n",
       "    </tr>\n",
       "    <tr>\n",
       "      <th>3</th>\n",
       "      <td>0.564857</td>\n",
       "      <td>0.066942</td>\n",
       "      <td>petal width</td>\n",
       "    </tr>\n",
       "  </tbody>\n",
       "</table>\n",
       "</div>"
      ],
      "text/plain": [
       "        PC1       PC2    variabelen\n",
       "0  0.521066  0.377418  sepal length\n",
       "1 -0.269347  0.923296   sepal width\n",
       "2  0.580413  0.024492  petal length\n",
       "3  0.564857  0.066942   petal width"
      ]
     },
     "execution_count": 26,
     "metadata": {},
     "output_type": "execute_result"
    }
   ],
   "source": [
    "# wrappen van loadings en variabelenamen in dataframe\n",
    "df_pca_loadings = pd.DataFrame(np.transpose(pca_model.components_[0:2, :]),\n",
    "                               columns = [\"PC1\", \"PC2\"])\n",
    "df_pca_loadings[\"variabelen\"] = df.columns[:-1]\n",
    "df_pca_loadings"
   ]
  },
  {
   "cell_type": "code",
   "execution_count": 27,
   "metadata": {},
   "outputs": [
    {
     "data": {
      "image/png": "[encoded data removed]",
      "text/plain": [
       "<Figure size 640x480 with 1 Axes>"
      ]
     },
     "metadata": {},
     "output_type": "display_data"
    },
    {
     "data": {
      "text/plain": [
       "<ggplot: (-9223371862517346140)>"
      ]
     },
     "execution_count": 27,
     "metadata": {},
     "output_type": "execute_result"
    }
   ],
   "source": [
    "# visualiseren loadings\n",
    "ggplot(df_pca_loadings, aes(x = \"PC1\", y = \"PC2\")) +\\\n",
    "   geom_point() +\\\n",
    "   geom_text(aes(label = \"variabelen\"))"
   ]
  },
  {
   "cell_type": "markdown",
   "metadata": {},
   "source": [
    "**STAP 6: combineren scores en loadings op 1 plot: de biplot**"
   ]
  },
  {
   "cell_type": "code",
   "execution_count": 46,
   "metadata": {},
   "outputs": [
    {
     "data": {
      "image/png": "[encoded data removed]",
      "text/plain": [
       "<Figure size 432x288 with 2 Axes>"
      ]
     },
     "metadata": {
      "needs_background": "light"
     },
     "output_type": "display_data"
    }
   ],
   "source": [
    "# optional: recode 'soort' naar numerieke vector, met 'setosa' = 0, 'versicolor' = 1, 'virginica' = 2\n",
    "soort_recoded = np.unique(df[\"soort\"], return_inverse = True)[1]\n",
    "\n",
    "[fig, ax] = biplot_func(x_new[:, 0:2],\n",
    "                        pca_model,\n",
    "                        labels=df.columns[:-1],\n",
    "                        y = soort_recoded,\n",
    "                        show_index=False)"
   ]
  },
  {
   "cell_type": "markdown",
   "metadata": {},
   "source": [
    "**STAP 7: bekijken verklaarde variabiliteit per PC**"
   ]
  },
  {
   "cell_type": "code",
   "execution_count": 47,
   "metadata": {},
   "outputs": [
    {
     "data": {
      "text/plain": [
       "()"
      ]
     },
     "execution_count": 47,
     "metadata": {},
     "output_type": "execute_result"
    },
    {
     "data": {
      "image/png": "[encoded data removed]",
      "text/plain": [
       "<Figure size 432x288 with 1 Axes>"
      ]
     },
     "metadata": {
      "needs_background": "light"
     },
     "output_type": "display_data"
    }
   ],
   "source": [
    "scree_plot(pca_model)"
   ]
  },
  {
   "cell_type": "markdown",
   "metadata": {},
   "source": [
    "## 2. Oefeningen PCA\n",
    "\n",
    "********"
   ]
  },
  {
   "cell_type": "code",
   "execution_count": null,
   "metadata": {},
   "outputs": [],
   "source": []
  },
  {
   "cell_type": "code",
   "execution_count": null,
   "metadata": {},
   "outputs": [],
   "source": []
  },
  {
   "cell_type": "markdown",
   "metadata": {},
   "source": [
    "**1. Zware metalen in de Schelde**\n",
    "\n",
    "Aan het departement omgeving onderzochten enkele onderzoekers de vervuiling van grasland\n",
    "in de nabijheid van de rivier de Schelde. De concentratie van acht zware metalen (cadmium,\n",
    "chroom, koper, ijzer, mangaan, nikkel, lood, zink) werd gemeten op 19 verschillende locaties\n",
    "elke keer op een diepte van 5 en 20 cm. De nabijheid van de locatie tot de rivier werd genoteerd\n",
    "als ver(0) of dicht(1). Je vindt de data terug in **heavymetals.csv**."
   ]
  },
  {
   "cell_type": "markdown",
   "metadata": {},
   "source": [
    "**1.1. Lees de data in en bestudeer ze zodat je er voeling mee krijgt.**"
   ]
  },
  {
   "cell_type": "code",
   "execution_count": null,
   "metadata": {
    "scrolled": true
   },
   "outputs": [],
   "source": [
    "url='https://raw.githubusercontent.com/ArneDeloose/Ugain_MachineLearning_DataVis/main/heavymetals.csv'\n",
    "\n",
    "df=pd.read_csv(url)\n",
    "df.head()"
   ]
  },
  {
   "cell_type": "markdown",
   "metadata": {},
   "source": [
    "**1.2. Voer een PCA-analyse uit. Schaal je de data of niet? Hoeveel componenten zou je behouden?**\n",
    "\n",
    "Data schalen kan je doen via:\n",
    "\n",
    "- `scaler = StandardScaler()`\n",
    "\n",
    "- `scaler.fit(X)`\n",
    "\n",
    "- `X=scaler.transform(X)`\n"
   ]
  },
  {
   "cell_type": "code",
   "execution_count": null,
   "metadata": {
    "scrolled": true
   },
   "outputs": [],
   "source": [
    "X=df.loc[:, ***]\n",
    "y=df.loc[:, ***]\n",
    "\n",
    "#schalen?\n",
    "***\n",
    "\n",
    "#PCA fitten\n",
    "pca_model = PCA()\n",
    "x_new = pca_model.fit_transform(X)\n",
    "\n",
    "#hoeveel componenten heb je nodig?\n",
    "***"
   ]
  },
  {
   "cell_type": "markdown",
   "metadata": {},
   "source": [
    "**1.3. Maak een biplot en interpreteer deze. Kleur de locaties in de biplot volgens de nabijheid bij de rivier.**"
   ]
  },
  {
   "cell_type": "code",
   "execution_count": null,
   "metadata": {
    "scrolled": true
   },
   "outputs": [],
   "source": [
    "# 1.3. biplot\n",
    "[fig, ax] = biplot_func(***, ***, \n",
    "                        labels=df.loc[:, 'Cd5':'Zn20'].columns,  y=y)"
   ]
  },
  {
   "cell_type": "markdown",
   "metadata": {},
   "source": [
    "**2. Gestrande dolfijnen**\n",
    "\n",
    "Van een aantal gestrande dolfijnen aan de Schotse kusten, heeft men de vetzurensamenstelling\n",
    "van hun vetlaag bestudeerd. De samenstelling - en dan vooral de hoeveelheid kortere versus\n",
    "langere en onverzadigde versus verzadigde vetzuren - kan namelijk een indicatie zijn voor het\n",
    "dieet van de dolfijnen. Voor meer dan 20 vetzuren werd de aanwezige concentratie bepaald. Je\n",
    "kan de data terugvinden in **dolfijnen.csv**.\n",
    "\n",
    "Vetzuren zijn genoteerd als FAxx.yy. De xx staat voor het aantal koolstofatomen in de vetzuurketen. De yy geeft het aantal dubbele bindingen weer. Verzadigde vetzuren hebben er geen,\n",
    "dus daar is yy gelijk aan nul. Onverzadigde vetzuren worden genoteerd als an.b, waarbij a\n",
    "het aantal dubbele bindingen geeft, en b het eerste koolstofatoom waar een dubbele binding\n",
    "voorkomt (telkens te tellen van het uiteinde, niet de -COOH kop).\n",
    "Dus bvb FA20.4n.3 is een onverzadigd vetzuur met een koolstofketen van 20 koolstofatomen\n",
    "en 4 dubbele bindingen (telkens gescheiden door een CH2) die beginnen op positie 3."
   ]
  },
  {
   "cell_type": "markdown",
   "metadata": {},
   "source": [
    "**2.1. Lees de data in en bestudeer ze zodat je er voeling mee krijgt.**"
   ]
  },
  {
   "cell_type": "code",
   "execution_count": null,
   "metadata": {
    "scrolled": true
   },
   "outputs": [],
   "source": [
    "url='https://raw.githubusercontent.com/ArneDeloose/Ugain_MachineLearning_DataVis/main/dolfijnen.csv'\n",
    "\n",
    "df=pd.read_csv(url)\n",
    "df.head()"
   ]
  },
  {
   "cell_type": "markdown",
   "metadata": {},
   "source": [
    "**2.2. Voer een PCA-analyse uit. Hoeveel dimensies zou je behouden om deze data voor te stellen?**"
   ]
  },
  {
   "cell_type": "code",
   "execution_count": null,
   "metadata": {
    "scrolled": true
   },
   "outputs": [],
   "source": [
    "X=***\n",
    "\n",
    "# scale data and fit pca\n",
    "scaler = StandardScaler()\n",
    "scaler.fit(X)\n",
    "X=scaler.transform(X)\n",
    "\n",
    "#PCA model fitten\n",
    "***\n",
    "\n",
    "#hoeveel componenten heb je nodig?\n",
    "***"
   ]
  },
  {
   "cell_type": "markdown",
   "metadata": {},
   "source": [
    "**2.3. Interpreteer de eerste component. Bekijk hiervoor de nodige diagnostische grafieken voor de eerste twee dimensies. Kijk ook eens naar de loadings voor de verschillende vetzuren.**"
   ]
  },
  {
   "cell_type": "code",
   "execution_count": null,
   "metadata": {
    "scrolled": true
   },
   "outputs": [],
   "source": [
    "df_pc=pd.DataFrame()\n",
    "df_pc['PC1']=pca_model.components_[***] #eerste component\n",
    "df_pc['PC2']=pca_model.components_[***] #tweede component\n",
    "df_pc['FA']=*** #naam van de vetzuren\n",
    "df_pc #toon de dataframe"
   ]
  },
  {
   "cell_type": "code",
   "execution_count": null,
   "metadata": {},
   "outputs": [],
   "source": [
    "#plot\n",
    "(\n",
    "ggplot(aes(x=***, y=***), data=***)\n",
    "+ geom_text(aes(label=***))\n",
    ")"
   ]
  },
  {
   "cell_type": "markdown",
   "metadata": {},
   "source": [
    "**2.4. Er bevinden zich 4 dolfijnen in de dataset die doodgeboren zijn, kan je hen identificeren?**"
   ]
  },
  {
   "cell_type": "code",
   "execution_count": null,
   "metadata": {},
   "outputs": [],
   "source": [
    "#plotnine\n",
    "df_score=pd.DataFrame()\n",
    "df_score['x1']=*** #eerste component\n",
    "df_score['x2']=*** #tweede component\n",
    "df_score['index']=***\n",
    "\n",
    "(\n",
    "ggplot(aes(x=***, y=***), data=***)\n",
    "+ geom_text(aes(label=***))\n",
    ")"
   ]
  },
  {
   "cell_type": "markdown",
   "metadata": {},
   "source": [
    "**EXTRA: 2.5. herhaal de vraag in 2.4 met een kernel-pca (polynomiale kernel). Bekom je hetzelfde resultaat?**"
   ]
  },
  {
   "cell_type": "code",
   "execution_count": null,
   "metadata": {},
   "outputs": [],
   "source": [
    "#kernel pca\n",
    "from sklearn.decomposition import KernelPCA\n",
    "***"
   ]
  },
  {
   "cell_type": "markdown",
   "metadata": {},
   "source": [
    "## 3. ILLUSTRATIE: Multidimensional scaling (MDS)\n",
    "\n",
    "*****\n",
    "\n",
    "In de onderstaande sectie wordt het gebruik van Multdimensional Scaling (MDS geïllustreerd)."
   ]
  },
  {
   "cell_type": "markdown",
   "metadata": {},
   "source": [
    "**STEP 1**: import libraries\n",
    "\n",
    "MDS is an example of what is generally known as manifold learning techniques. Therefore, it can be found in the `manifold` submodule of the `sklearn` package. The implementation of MDS in `sklearn` (and in particular the optimization routine behind it) relies on stress majorization, a brief description can be found [here](https://en.wikipedia.org/wiki/Stress_majorization). The documentation page of `sklearn` contains other manifold learning techniques, an overview kan be found [here](https://scikit-learn.org/stable/modules/manifold.html)."
   ]
  },
  {
   "cell_type": "code",
   "execution_count": 52,
   "metadata": {},
   "outputs": [],
   "source": [
    "import numpy as np\n",
    "import pandas as pd\n",
    "from plotnine import ggplot, aes, geom_point, geom_text, theme_bw\n",
    "from sklearn.manifold import MDS\n",
    "from sklearn.metrics.pairwise import euclidean_distances"
   ]
  },
  {
   "cell_type": "markdown",
   "metadata": {},
   "source": [
    "**STEP 2**: create distance matrix\n",
    "\n",
    "A distance matrix is a square symmetric numpy array (dimensions equal the number of objects in the dataset). In the example below, the distance matrix is hand-coded, but in most cases it is the result of some distance computation. In most applications of MDS, choosing a good distance measure (that is relevant to the problem at hand) is key to the succes of MDS. "
   ]
  },
  {
   "cell_type": "code",
   "execution_count": 53,
   "metadata": {},
   "outputs": [],
   "source": [
    "D = np.array([[0, 1, 2, 3],\n",
    "              [1, 0, 1, 2],\n",
    "              [2, 1, 0, 2],\n",
    "              [3, 2, 2, 0]])"
   ]
  },
  {
   "cell_type": "markdown",
   "metadata": {},
   "source": [
    "**STEP 3**: apply MDS (follows the typical workflow of sklearn). \n",
    "\n",
    "We need to provide the MDS model: (1) the number of components to use; and (2) the type of distance matrix to use. For the latter, the default is Euclidean distance, assuming that the data is a traditional table (note that if Euclidean distance is used an a regular data-table such as the iris dataset is provided as input, the result would be almost identical to PCA). In this case, however, we want to provide a precomputed distance matrix."
   ]
  },
  {
   "cell_type": "code",
   "execution_count": 54,
   "metadata": {},
   "outputs": [
    {
     "data": {
      "text/plain": [
       "array([[ 1.17928765,  0.7705803 ],\n",
       "       [ 0.39046662,  0.0599596 ],\n",
       "       [ 0.0932482 , -0.9086474 ],\n",
       "       [-1.66300247,  0.0781075 ]])"
      ]
     },
     "execution_count": 54,
     "metadata": {},
     "output_type": "execute_result"
    }
   ],
   "source": [
    "MDS_model = MDS(n_components=2, \n",
    "                dissimilarity='precomputed')\n",
    "MDS_model.fit_transform(D)"
   ]
  },
  {
   "cell_type": "markdown",
   "metadata": {},
   "source": [
    "**STEP 4**: wrap results in a pandas dataframe\n",
    "\n",
    "The attribute `embedding_` contains the computed coordinates. In the example below, they are extracted and wrapped into a Pandas dataframe with column names PC1 and PC2. An additional column is added as an identifier (note that this is not stricly necessary as Pandas dataframes automatically assign an index)."
   ]
  },
  {
   "cell_type": "code",
   "execution_count": 55,
   "metadata": {},
   "outputs": [],
   "source": [
    "df = pd.DataFrame(MDS_model.embedding_,\n",
    "                  columns = [\"PC1\", \"PC2\"])\n",
    "df[\"idx\"] = range(1, 5)"
   ]
  },
  {
   "cell_type": "markdown",
   "metadata": {},
   "source": [
    "**STEP 5**: plot coordinates"
   ]
  },
  {
   "cell_type": "code",
   "execution_count": 56,
   "metadata": {},
   "outputs": [
    {
     "data": {
      "image/png": "[encoded data removed]",
      "text/plain": [
       "<Figure size 640x480 with 1 Axes>"
      ]
     },
     "metadata": {},
     "output_type": "display_data"
    },
    {
     "data": {
      "text/plain": [
       "<ggplot: (-9223371862512037988)>"
      ]
     },
     "execution_count": 56,
     "metadata": {},
     "output_type": "execute_result"
    }
   ],
   "source": [
    "ggplot(df, aes(x = \"PC1\", y = \"PC2\")) +\\\n",
    "   geom_point() +\\\n",
    "   geom_text(aes(label = \"idx\"), nudge_x = 0.05) +\\\n",
    "   theme_bw()"
   ]
  },
  {
   "cell_type": "markdown",
   "metadata": {},
   "source": [
    "**STEP 6**: look at the stress & do a check"
   ]
  },
  {
   "cell_type": "code",
   "execution_count": 57,
   "metadata": {},
   "outputs": [
    {
     "name": "stdout",
     "output_type": "stream",
     "text": [
      "stres:  0.01493650339053269\n"
     ]
    },
    {
     "data": {
      "text/plain": [
       "array([[0.        , 1.06170635, 1.99982182, 2.92542846],\n",
       "       [1.06170635, 0.        , 1.01318227, 2.05354928],\n",
       "       [1.99982182, 1.01318227, 0.        , 2.01447304],\n",
       "       [2.92542846, 2.05354928, 2.01447304, 0.        ]])"
      ]
     },
     "execution_count": 57,
     "metadata": {},
     "output_type": "execute_result"
    }
   ],
   "source": [
    "print(\"stres: \", MDS_model.stress_)\n",
    "euclidean_distances(MDS_model.embedding_)"
   ]
  },
  {
   "cell_type": "markdown",
   "metadata": {},
   "source": [
    "## 4. Oefeningen MDS\n",
    "\n",
    "\n",
    "*******"
   ]
  },
  {
   "cell_type": "markdown",
   "metadata": {},
   "source": [
    "**4.1. Vergelijking van IGHV eiwitten**\n",
    "\n",
    "Immunoglobulin Heavy Chain Variable Region eiwitten (IGHV), maken deel uit van de zware\n",
    "keten in immunoglobulines, ook wel antilichamen genoemd. Samen met de lichte ketens herkennen deze lichaamsvreemde stoffen (antigenen) en helpen zo het immuunsysteem lichaamsvreemde stoffen uit het lichaam te verwijderen. Zowel de zware keten, als de lichte keten zijn telkens opgebouwd uit een onveranderlijk deel (constant region) en een variabel deel (variable\n",
    "region). De variabele regio heeft enkele hypervariabele delen die zorgen voor de specifieke herkenning van een bepaald antigen, en minder variabele delen die voor de secundaire structuur van het eiwit zorgen.\n",
    "\n",
    "We hebben enkele eiwitsequenties van de variabele regio’s voor menselijke IGHV’s (Homo\n",
    "sapiens, n = 15), IGHV’s in muis (Mus musculus, n = 3) en IGHV’s in orang-oetang (Pongo\n",
    "albelii, n = 3). We zijn ge¨ınteresseerd of deze eiwitten tussen de verschillende species veel\n",
    "verschillen vertonen. Je vindt de eiwitsequenties terug in **eiwitseq.fa**."
   ]
  },
  {
   "cell_type": "markdown",
   "metadata": {},
   "source": [
    "**4.2. Lees de data in**"
   ]
  },
  {
   "cell_type": "code",
   "execution_count": null,
   "metadata": {
    "scrolled": true
   },
   "outputs": [],
   "source": [
    "url='https://raw.githubusercontent.com/ArneDeloose/Ugain_MachineLearning_DataVis/main/eiwitseq.fa'\n",
    "df=pd.read_csv(url)\n",
    "df.head()"
   ]
  },
  {
   "cell_type": "markdown",
   "metadata": {},
   "source": [
    "**4.3. Bepaal via een paarsgewijze vergelijking de Levenshtein afstand tussen de sequenties doormiddel van het jellyfish package.**"
   ]
  },
  {
   "cell_type": "code",
   "execution_count": null,
   "metadata": {},
   "outputs": [],
   "source": [
    "n=df.shape[0] #aantal datapunten\n",
    "\n",
    "lev_matrix=np.zeros((***, ***), dtype='int') #alloceer resultaat\n",
    "\n",
    "for i in range(***):\n",
    "    for j in range(***):\n",
    "        lev_matrix[***, ***]=jellyfish.levenshtein_distance(df[***][***], df[***][***])"
   ]
  },
  {
   "cell_type": "markdown",
   "metadata": {},
   "source": [
    "**4.4. Voer een MDS analyse uit op de Levenshtein afstandsmatrix.**"
   ]
  },
  {
   "cell_type": "code",
   "execution_count": null,
   "metadata": {},
   "outputs": [],
   "source": [
    "model_mds=MDS(dissimilarity=***)\n",
    "pos=model_mds.fit_transform(lev_matrix)"
   ]
  },
  {
   "cell_type": "markdown",
   "metadata": {},
   "source": [
    "**4.5. Maak een grafiek waarbij je de eiwit labels meegeeft en de punten kleurt per soort. Wat kan je hier uit besluiten?**"
   ]
  },
  {
   "cell_type": "code",
   "execution_count": null,
   "metadata": {},
   "outputs": [],
   "source": [
    "#plotnine\n",
    "df_mds=pd.DataFrame()\n",
    "df_mds['Dim1']=pos[***]\n",
    "df_mds['Dim2']=pos[***]\n",
    "df_mds['Soort']=*** #soort\n",
    "\n",
    "\n",
    "\n",
    "ggplot(aes(x=***, y=***), data=***) +\\\n",
    "    geom_point(aes(color=***))\n"
   ]
  },
  {
   "cell_type": "code",
   "execution_count": null,
   "metadata": {},
   "outputs": [],
   "source": []
  }
 ],
 "metadata": {
  "kernelspec": {
   "display_name": "Python 3",
   "language": "python",
   "name": "python3"
  },
  "language_info": {
   "codemirror_mode": {
    "name": "ipython",
    "version": 3
   },
   "file_extension": ".py",
   "mimetype": "text/x-python",
   "name": "python",
   "nbconvert_exporter": "python",
   "pygments_lexer": "ipython3",
   "version": "3.7.6"
  }
 },
 "nbformat": 4,
 "nbformat_minor": 5
}
