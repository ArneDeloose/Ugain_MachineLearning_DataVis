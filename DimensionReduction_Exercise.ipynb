{
 "cells": [
  {
   "cell_type": "code",
   "execution_count": 17,
   "id": "e8bbca5d",
   "metadata": {},
   "outputs": [],
   "source": [
    "#importeer de nodige paketten en functies\n",
    "import pandas as pd\n",
    "import sklearn\n",
    "from sklearn.preprocessing import StandardScaler\n",
    "from sklearn import datasets\n",
    "from sklearn.decomposition import PCA\n",
    "import numpy as np\n",
    "import plotnine\n",
    "from plotnine import *\n",
    "from plotnine.data import *\n",
    "import matplotlib.pyplot as plt\n",
    "!pip install jellyfish\n",
    "import jellyfish\n",
    "from sklearn.manifold import MDS\n",
    "\n",
    "\n",
    "#functies\n",
    "\n",
    "def scree_plot(pca_model):\n",
    "    PC_values = np.arange(pca_model.n_components_) + 1\n",
    "    plt.plot(PC_values, pca_model.explained_variance_ratio_, 'ro-', linewidth=2)\n",
    "    plt.title('Scree Plot')\n",
    "    plt.xlabel('Principal Component')\n",
    "    plt.ylabel('Proportion of Variance Explained')\n",
    "    return()\n",
    "\n",
    "def biplot_func(score, pca_model, labels=None, y=None, show_index=False):\n",
    "    coeff=np.transpose(pca_model.components_[0:2, :]).copy()\n",
    "    xs = score[:, 0]\n",
    "    ys = score[:, 1]\n",
    "    n = coeff.shape[0]\n",
    "    coeff[:, 0] = coeff[:,0]*xs.std()*np.sqrt(len(xs))\n",
    "    coeff[:, 1] = coeff[:,1]*ys.std()*np.sqrt(len(ys))\n",
    "    fig, ax = plt.subplots()\n",
    "    im = ax.scatter(xs, ys, c = y) #use y as color\n",
    "    if show_index:\n",
    "        for i in range(len(xs)):\n",
    "            ax.text(xs[i], ys[i], i+1)\n",
    "    if not y is None:\n",
    "        fig.colorbar(im, ax=ax)\n",
    "    for i in range(n):\n",
    "        ax.arrow(0, 0, coeff[i, 0], coeff[i,1], color = 'r',alpha = 0.5)\n",
    "        if labels is None:\n",
    "            ax.text(1.1*coeff[i,0], 1.1*coeff[i,1], \"Var\"+str(i+1), color = 'g', ha = 'center', va = 'center')\n",
    "        else:\n",
    "            ax.text(1.1*coeff[i,0], 1.1*coeff[i,1], labels[i], color = 'g', ha = 'center', va = 'center')           \n",
    "    ax.set_xlim(1.2*min(np.min(coeff[:, 0]), np.min(xs)), 1.2*max(np.max(coeff[:, 0]), np.max(xs)))\n",
    "    ax.set_ylim(1.2*min(np.min(coeff[:, 1]), np.min(ys)), 1.2*max(np.max(coeff[:, 1]), np.max(ys)))\n",
    "    ax.set_xlabel(\"PC{}\".format(1))\n",
    "    ax.set_ylabel(\"PC{}\".format(2))\n",
    "    ax.grid()\n",
    "    return(fig, ax)"
   ]
  },
  {
   "cell_type": "markdown",
   "id": "baa59689",
   "metadata": {},
   "source": [
    "**1. Zware metalen in de Schelde**\n",
    "\n",
    "Aan het departement omgeving onderzochten enkele onderzoekers de vervuiling van grasland\n",
    "in de nabijheid van de rivier de Schelde. De concentratie van acht zware metalen (cadmium,\n",
    "chroom, koper, ijzer, mangaan, nikkel, lood, zink) werd gemeten op 19 verschillende locaties\n",
    "elke keer op een diepte van 5 en 20 cm. De nabijheid van de locatie tot de rivier werd genoteerd\n",
    "als ver(0) of dicht(1). Je vindt de data terug in **heavymetals.csv**."
   ]
  },
  {
   "cell_type": "markdown",
   "id": "4568c361",
   "metadata": {},
   "source": [
    "**1.1. Lees de data in en bestudeer ze zodat je er voeling mee krijgt.**"
   ]
  },
  {
   "cell_type": "code",
   "execution_count": 2,
   "id": "2dfaf7ea",
   "metadata": {
    "scrolled": true
   },
   "outputs": [
    {
     "data": {
      "text/html": [
       "<div>\n",
       "<style scoped>\n",
       "    .dataframe tbody tr th:only-of-type {\n",
       "        vertical-align: middle;\n",
       "    }\n",
       "\n",
       "    .dataframe tbody tr th {\n",
       "        vertical-align: top;\n",
       "    }\n",
       "\n",
       "    .dataframe thead th {\n",
       "        text-align: right;\n",
       "    }\n",
       "</style>\n",
       "<table border=\"1\" class=\"dataframe\">\n",
       "  <thead>\n",
       "    <tr style=\"text-align: right;\">\n",
       "      <th></th>\n",
       "      <th>location</th>\n",
       "      <th>Cd5</th>\n",
       "      <th>Cd20</th>\n",
       "      <th>Cr5</th>\n",
       "      <th>Cr20</th>\n",
       "      <th>Cu5</th>\n",
       "      <th>Cu20</th>\n",
       "      <th>Fe5</th>\n",
       "      <th>Fe20</th>\n",
       "      <th>Mn5</th>\n",
       "      <th>Mn20</th>\n",
       "      <th>Ni5</th>\n",
       "      <th>Ni20</th>\n",
       "      <th>Pb5</th>\n",
       "      <th>Pb20</th>\n",
       "      <th>Zn5</th>\n",
       "      <th>Zn20</th>\n",
       "      <th>river</th>\n",
       "    </tr>\n",
       "  </thead>\n",
       "  <tbody>\n",
       "    <tr>\n",
       "      <th>0</th>\n",
       "      <td>1</td>\n",
       "      <td>11.985549</td>\n",
       "      <td>10.248267</td>\n",
       "      <td>222.626423</td>\n",
       "      <td>201.704108</td>\n",
       "      <td>53.073686</td>\n",
       "      <td>47.127967</td>\n",
       "      <td>21082.422949</td>\n",
       "      <td>21115.642286</td>\n",
       "      <td>560.694658</td>\n",
       "      <td>539.509975</td>\n",
       "      <td>26.564668</td>\n",
       "      <td>28.185780</td>\n",
       "      <td>125.561693</td>\n",
       "      <td>110.016628</td>\n",
       "      <td>669.780898</td>\n",
       "      <td>566.873880</td>\n",
       "      <td>1</td>\n",
       "    </tr>\n",
       "    <tr>\n",
       "      <th>1</th>\n",
       "      <td>2</td>\n",
       "      <td>18.879780</td>\n",
       "      <td>21.305590</td>\n",
       "      <td>380.835214</td>\n",
       "      <td>472.996839</td>\n",
       "      <td>87.105354</td>\n",
       "      <td>98.220062</td>\n",
       "      <td>26086.565207</td>\n",
       "      <td>27674.416450</td>\n",
       "      <td>585.173876</td>\n",
       "      <td>439.722016</td>\n",
       "      <td>30.230354</td>\n",
       "      <td>31.932810</td>\n",
       "      <td>228.326793</td>\n",
       "      <td>249.615777</td>\n",
       "      <td>1308.674304</td>\n",
       "      <td>1500.207461</td>\n",
       "      <td>1</td>\n",
       "    </tr>\n",
       "    <tr>\n",
       "      <th>2</th>\n",
       "      <td>3</td>\n",
       "      <td>18.596573</td>\n",
       "      <td>25.293862</td>\n",
       "      <td>367.931598</td>\n",
       "      <td>471.080071</td>\n",
       "      <td>85.195973</td>\n",
       "      <td>99.346959</td>\n",
       "      <td>26505.513017</td>\n",
       "      <td>28401.947875</td>\n",
       "      <td>496.138010</td>\n",
       "      <td>492.556233</td>\n",
       "      <td>29.315192</td>\n",
       "      <td>32.593912</td>\n",
       "      <td>242.454283</td>\n",
       "      <td>271.708647</td>\n",
       "      <td>1338.875830</td>\n",
       "      <td>1579.756162</td>\n",
       "      <td>1</td>\n",
       "    </tr>\n",
       "    <tr>\n",
       "      <th>3</th>\n",
       "      <td>4</td>\n",
       "      <td>29.266197</td>\n",
       "      <td>28.375580</td>\n",
       "      <td>509.721009</td>\n",
       "      <td>536.508923</td>\n",
       "      <td>81.332707</td>\n",
       "      <td>107.378701</td>\n",
       "      <td>26227.868930</td>\n",
       "      <td>31017.349203</td>\n",
       "      <td>507.927708</td>\n",
       "      <td>445.994337</td>\n",
       "      <td>29.815369</td>\n",
       "      <td>35.302712</td>\n",
       "      <td>220.862755</td>\n",
       "      <td>283.042973</td>\n",
       "      <td>1311.174316</td>\n",
       "      <td>1696.887110</td>\n",
       "      <td>1</td>\n",
       "    </tr>\n",
       "    <tr>\n",
       "      <th>4</th>\n",
       "      <td>5</td>\n",
       "      <td>27.338299</td>\n",
       "      <td>16.642950</td>\n",
       "      <td>459.452164</td>\n",
       "      <td>374.883073</td>\n",
       "      <td>80.171948</td>\n",
       "      <td>89.435765</td>\n",
       "      <td>26673.331334</td>\n",
       "      <td>25223.073606</td>\n",
       "      <td>492.952114</td>\n",
       "      <td>375.191561</td>\n",
       "      <td>30.209437</td>\n",
       "      <td>30.453776</td>\n",
       "      <td>240.267920</td>\n",
       "      <td>256.055329</td>\n",
       "      <td>1356.359759</td>\n",
       "      <td>1399.907122</td>\n",
       "      <td>1</td>\n",
       "    </tr>\n",
       "  </tbody>\n",
       "</table>\n",
       "</div>"
      ],
      "text/plain": [
       "   location        Cd5       Cd20         Cr5        Cr20        Cu5  \\\n",
       "0         1  11.985549  10.248267  222.626423  201.704108  53.073686   \n",
       "1         2  18.879780  21.305590  380.835214  472.996839  87.105354   \n",
       "2         3  18.596573  25.293862  367.931598  471.080071  85.195973   \n",
       "3         4  29.266197  28.375580  509.721009  536.508923  81.332707   \n",
       "4         5  27.338299  16.642950  459.452164  374.883073  80.171948   \n",
       "\n",
       "         Cu20           Fe5          Fe20         Mn5        Mn20        Ni5  \\\n",
       "0   47.127967  21082.422949  21115.642286  560.694658  539.509975  26.564668   \n",
       "1   98.220062  26086.565207  27674.416450  585.173876  439.722016  30.230354   \n",
       "2   99.346959  26505.513017  28401.947875  496.138010  492.556233  29.315192   \n",
       "3  107.378701  26227.868930  31017.349203  507.927708  445.994337  29.815369   \n",
       "4   89.435765  26673.331334  25223.073606  492.952114  375.191561  30.209437   \n",
       "\n",
       "        Ni20         Pb5        Pb20          Zn5         Zn20  river  \n",
       "0  28.185780  125.561693  110.016628   669.780898   566.873880      1  \n",
       "1  31.932810  228.326793  249.615777  1308.674304  1500.207461      1  \n",
       "2  32.593912  242.454283  271.708647  1338.875830  1579.756162      1  \n",
       "3  35.302712  220.862755  283.042973  1311.174316  1696.887110      1  \n",
       "4  30.453776  240.267920  256.055329  1356.359759  1399.907122      1  "
      ]
     },
     "execution_count": 2,
     "metadata": {},
     "output_type": "execute_result"
    }
   ],
   "source": [
    "url='https://raw.githubusercontent.com/ArneDeloose/Ugain_MachineLearning_DataVis/main/heavymetals.csv'\n",
    "\n",
    "df=pd.read_csv(url)\n",
    "df.head()"
   ]
  },
  {
   "cell_type": "markdown",
   "id": "e034b75c",
   "metadata": {},
   "source": [
    "**1.2. Voer een PCA-analyse uit. Schaal je de data of niet? Hoeveel componenten zou je behouden?**\n",
    "\n",
    "Data schalen kan je doen via:\n",
    "\n",
    "- scaler = StandardScaler()\n",
    "\n",
    "- scaler.fit(X)\n",
    "\n",
    "- X=scaler.transform(X)\n"
   ]
  },
  {
   "cell_type": "code",
   "execution_count": 3,
   "id": "db4bc5c4",
   "metadata": {
    "scrolled": true
   },
   "outputs": [
    {
     "data": {
      "text/plain": [
       "()"
      ]
     },
     "execution_count": 3,
     "metadata": {},
     "output_type": "execute_result"
    },
    {
     "data": {
      "image/png": "[encoded data removed]",
      "text/plain": [
       "<Figure size 432x288 with 1 Axes>"
      ]
     },
     "metadata": {
      "needs_background": "light"
     },
     "output_type": "display_data"
    }
   ],
   "source": [
    "X=df.loc[:, ***]\n",
    "y=df.loc[:, ***]\n",
    "\n",
    "#schalen?\n",
    "***\n",
    "\n",
    "#PCA fitten\n",
    "pca_model = PCA()\n",
    "x_new = pca_model.fit_transform(X)\n",
    "\n",
    "#hoeveel componenten heb je nodig?\n",
    "***"
   ]
  },
  {
   "cell_type": "markdown",
   "id": "2993972b",
   "metadata": {},
   "source": [
    "**1.3. Maak een biplot en interpreteer deze. Kleur de locaties in de biplot volgens de nabijheid bij de rivier.**"
   ]
  },
  {
   "cell_type": "code",
   "execution_count": 4,
   "id": "e0ecd680",
   "metadata": {
    "scrolled": true
   },
   "outputs": [
    {
     "data": {
      "image/png": "[encoded data removed]",
      "text/plain": [
       "<Figure size 432x288 with 2 Axes>"
      ]
     },
     "metadata": {
      "needs_background": "light"
     },
     "output_type": "display_data"
    }
   ],
   "source": [
    "# 1.3. biplot\n",
    "[fig, ax] = biplot_func(***, ***, \n",
    "                        labels=df.loc[:, 'Cd5':'Zn20'].columns,  y=y)"
   ]
  },
  {
   "cell_type": "markdown",
   "id": "f66444e8",
   "metadata": {},
   "source": [
    "**2. Gestrande dolfijnen**\n",
    "\n",
    "Van een aantal gestrande dolfijnen aan de Schotse kusten, heeft men de vetzurensamenstelling\n",
    "van hun vetlaag bestudeerd. De samenstelling - en dan vooral de hoeveelheid kortere versus\n",
    "langere en onverzadigde versus verzadigde vetzuren - kan namelijk een indicatie zijn voor het\n",
    "dieet van de dolfijnen. Voor meer dan 20 vetzuren werd de aanwezige concentratie bepaald. Je\n",
    "kan de data terugvinden in **dolfijnen.csv**.\n",
    "\n",
    "Vetzuren zijn genoteerd als FAxx.yy. De xx staat voor het aantal koolstofatomen in de vetzuurketen. De yy geeft het aantal dubbele bindingen weer. Verzadigde vetzuren hebben er geen,\n",
    "dus daar is yy gelijk aan nul. Onverzadigde vetzuren worden genoteerd als an.b, waarbij a\n",
    "het aantal dubbele bindingen geeft, en b het eerste koolstofatoom waar een dubbele binding\n",
    "voorkomt (telkens te tellen van het uiteinde, niet de -COOH kop).\n",
    "Dus bvb FA20.4n.3 is een onverzadigd vetzuur met een koolstofketen van 20 koolstofatomen\n",
    "en 4 dubbele bindingen (telkens gescheiden door een CH2) die beginnen op positie 3."
   ]
  },
  {
   "cell_type": "markdown",
   "id": "6f4e3cb3",
   "metadata": {},
   "source": [
    "**2.1. Lees de data in en bestudeer ze zodat je er voeling mee krijgt.**"
   ]
  },
  {
   "cell_type": "code",
   "execution_count": 5,
   "id": "13ccd437",
   "metadata": {
    "scrolled": true
   },
   "outputs": [
    {
     "data": {
      "text/html": [
       "<div>\n",
       "<style scoped>\n",
       "    .dataframe tbody tr th:only-of-type {\n",
       "        vertical-align: middle;\n",
       "    }\n",
       "\n",
       "    .dataframe tbody tr th {\n",
       "        vertical-align: top;\n",
       "    }\n",
       "\n",
       "    .dataframe thead th {\n",
       "        text-align: right;\n",
       "    }\n",
       "</style>\n",
       "<table border=\"1\" class=\"dataframe\">\n",
       "  <thead>\n",
       "    <tr style=\"text-align: right;\">\n",
       "      <th></th>\n",
       "      <th>FA12.0</th>\n",
       "      <th>FA14.0</th>\n",
       "      <th>FA14.1.n.5</th>\n",
       "      <th>FA15.0</th>\n",
       "      <th>FA16.0</th>\n",
       "      <th>FA16.1n.7</th>\n",
       "      <th>FA16.2n.6</th>\n",
       "      <th>FA16.3n.6</th>\n",
       "      <th>FA16.4n.3</th>\n",
       "      <th>FA18.0</th>\n",
       "      <th>...</th>\n",
       "      <th>FA20.3</th>\n",
       "      <th>FA20.4n.3</th>\n",
       "      <th>FA20.5n.3</th>\n",
       "      <th>FA22.0</th>\n",
       "      <th>FA22.1n.11</th>\n",
       "      <th>FA22.1n.9</th>\n",
       "      <th>FA21.5n.3</th>\n",
       "      <th>FA22.5n.3</th>\n",
       "      <th>FA22.6n.3</th>\n",
       "      <th>FA24.1n.9</th>\n",
       "    </tr>\n",
       "  </thead>\n",
       "  <tbody>\n",
       "    <tr>\n",
       "      <th>0</th>\n",
       "      <td>0.75</td>\n",
       "      <td>8.08</td>\n",
       "      <td>1.64</td>\n",
       "      <td>0.54</td>\n",
       "      <td>8.33</td>\n",
       "      <td>15.62</td>\n",
       "      <td>0.52</td>\n",
       "      <td>0.64</td>\n",
       "      <td>0.21</td>\n",
       "      <td>1.54</td>\n",
       "      <td>...</td>\n",
       "      <td>0.13</td>\n",
       "      <td>1.14</td>\n",
       "      <td>4.37</td>\n",
       "      <td>0.11</td>\n",
       "      <td>6.24</td>\n",
       "      <td>0.28</td>\n",
       "      <td>0.24</td>\n",
       "      <td>2.58</td>\n",
       "      <td>8.95</td>\n",
       "      <td>0.10</td>\n",
       "    </tr>\n",
       "    <tr>\n",
       "      <th>1</th>\n",
       "      <td>0.28</td>\n",
       "      <td>3.03</td>\n",
       "      <td>0.33</td>\n",
       "      <td>0.43</td>\n",
       "      <td>9.36</td>\n",
       "      <td>9.87</td>\n",
       "      <td>0.22</td>\n",
       "      <td>0.13</td>\n",
       "      <td>0.10</td>\n",
       "      <td>2.38</td>\n",
       "      <td>...</td>\n",
       "      <td>0.19</td>\n",
       "      <td>1.11</td>\n",
       "      <td>8.67</td>\n",
       "      <td>0.04</td>\n",
       "      <td>1.75</td>\n",
       "      <td>0.18</td>\n",
       "      <td>0.38</td>\n",
       "      <td>7.55</td>\n",
       "      <td>18.83</td>\n",
       "      <td>0.24</td>\n",
       "    </tr>\n",
       "    <tr>\n",
       "      <th>2</th>\n",
       "      <td>0.80</td>\n",
       "      <td>5.49</td>\n",
       "      <td>0.60</td>\n",
       "      <td>0.45</td>\n",
       "      <td>8.84</td>\n",
       "      <td>11.04</td>\n",
       "      <td>0.60</td>\n",
       "      <td>0.28</td>\n",
       "      <td>0.39</td>\n",
       "      <td>1.99</td>\n",
       "      <td>...</td>\n",
       "      <td>0.11</td>\n",
       "      <td>1.18</td>\n",
       "      <td>6.85</td>\n",
       "      <td>0.02</td>\n",
       "      <td>4.57</td>\n",
       "      <td>0.23</td>\n",
       "      <td>0.40</td>\n",
       "      <td>4.56</td>\n",
       "      <td>13.69</td>\n",
       "      <td>0.22</td>\n",
       "    </tr>\n",
       "    <tr>\n",
       "      <th>3</th>\n",
       "      <td>0.92</td>\n",
       "      <td>6.22</td>\n",
       "      <td>1.39</td>\n",
       "      <td>0.55</td>\n",
       "      <td>7.46</td>\n",
       "      <td>13.80</td>\n",
       "      <td>0.54</td>\n",
       "      <td>0.22</td>\n",
       "      <td>0.33</td>\n",
       "      <td>1.88</td>\n",
       "      <td>...</td>\n",
       "      <td>0.12</td>\n",
       "      <td>1.08</td>\n",
       "      <td>5.35</td>\n",
       "      <td>0.07</td>\n",
       "      <td>4.96</td>\n",
       "      <td>0.17</td>\n",
       "      <td>0.33</td>\n",
       "      <td>4.17</td>\n",
       "      <td>13.42</td>\n",
       "      <td>0.22</td>\n",
       "    </tr>\n",
       "    <tr>\n",
       "      <th>4</th>\n",
       "      <td>1.02</td>\n",
       "      <td>6.59</td>\n",
       "      <td>1.82</td>\n",
       "      <td>0.47</td>\n",
       "      <td>8.50</td>\n",
       "      <td>19.33</td>\n",
       "      <td>0.80</td>\n",
       "      <td>0.24</td>\n",
       "      <td>0.28</td>\n",
       "      <td>1.55</td>\n",
       "      <td>...</td>\n",
       "      <td>0.11</td>\n",
       "      <td>0.82</td>\n",
       "      <td>4.87</td>\n",
       "      <td>0.03</td>\n",
       "      <td>3.25</td>\n",
       "      <td>0.00</td>\n",
       "      <td>0.23</td>\n",
       "      <td>2.17</td>\n",
       "      <td>9.71</td>\n",
       "      <td>0.18</td>\n",
       "    </tr>\n",
       "  </tbody>\n",
       "</table>\n",
       "<p>5 rows × 31 columns</p>\n",
       "</div>"
      ],
      "text/plain": [
       "   FA12.0  FA14.0  FA14.1.n.5  FA15.0  FA16.0  FA16.1n.7  FA16.2n.6  \\\n",
       "0    0.75    8.08        1.64    0.54    8.33      15.62       0.52   \n",
       "1    0.28    3.03        0.33    0.43    9.36       9.87       0.22   \n",
       "2    0.80    5.49        0.60    0.45    8.84      11.04       0.60   \n",
       "3    0.92    6.22        1.39    0.55    7.46      13.80       0.54   \n",
       "4    1.02    6.59        1.82    0.47    8.50      19.33       0.80   \n",
       "\n",
       "   FA16.3n.6  FA16.4n.3  FA18.0  ...  FA20.3  FA20.4n.3  FA20.5n.3  FA22.0  \\\n",
       "0       0.64       0.21    1.54  ...    0.13       1.14       4.37    0.11   \n",
       "1       0.13       0.10    2.38  ...    0.19       1.11       8.67    0.04   \n",
       "2       0.28       0.39    1.99  ...    0.11       1.18       6.85    0.02   \n",
       "3       0.22       0.33    1.88  ...    0.12       1.08       5.35    0.07   \n",
       "4       0.24       0.28    1.55  ...    0.11       0.82       4.87    0.03   \n",
       "\n",
       "   FA22.1n.11  FA22.1n.9  FA21.5n.3  FA22.5n.3  FA22.6n.3  FA24.1n.9  \n",
       "0        6.24       0.28       0.24       2.58       8.95       0.10  \n",
       "1        1.75       0.18       0.38       7.55      18.83       0.24  \n",
       "2        4.57       0.23       0.40       4.56      13.69       0.22  \n",
       "3        4.96       0.17       0.33       4.17      13.42       0.22  \n",
       "4        3.25       0.00       0.23       2.17       9.71       0.18  \n",
       "\n",
       "[5 rows x 31 columns]"
      ]
     },
     "execution_count": 5,
     "metadata": {},
     "output_type": "execute_result"
    }
   ],
   "source": [
    "url='https://raw.githubusercontent.com/ArneDeloose/Ugain_MachineLearning_DataVis/main/dolfijnen.csv'\n",
    "\n",
    "df=pd.read_csv(url)\n",
    "df.head()"
   ]
  },
  {
   "cell_type": "markdown",
   "id": "f30e6769",
   "metadata": {},
   "source": [
    "**2.2. Voer een PCA-analyse uit. Hoeveel dimensies zou je behouden om deze data voor te stellen?**"
   ]
  },
  {
   "cell_type": "code",
   "execution_count": 6,
   "id": "f608b60c",
   "metadata": {
    "scrolled": true
   },
   "outputs": [
    {
     "data": {
      "text/plain": [
       "()"
      ]
     },
     "execution_count": 6,
     "metadata": {},
     "output_type": "execute_result"
    },
    {
     "data": {
      "image/png": "[encoded data removed]",
      "text/plain": [
       "<Figure size 432x288 with 1 Axes>"
      ]
     },
     "metadata": {
      "needs_background": "light"
     },
     "output_type": "display_data"
    }
   ],
   "source": [
    "X=***\n",
    "\n",
    "# scale data and fit pca\n",
    "scaler = StandardScaler()\n",
    "scaler.fit(X)\n",
    "X=scaler.transform(X)\n",
    "\n",
    "#PCA model fitten\n",
    "***\n",
    "\n",
    "#hoeveel componenten heb je nodig?\n",
    "***"
   ]
  },
  {
   "cell_type": "markdown",
   "id": "d801386b",
   "metadata": {},
   "source": [
    "**2.3. Interpreteer de eerste component. Bekijk hiervoor de nodige diagnostische grafieken voor de eerste twee dimensies. Kijk ook eens naar de loadings voor de verschillende vetzuren.**"
   ]
  },
  {
   "cell_type": "code",
   "execution_count": 7,
   "id": "67f792dc",
   "metadata": {
    "scrolled": true
   },
   "outputs": [
    {
     "data": {
      "text/html": [
       "<div>\n",
       "<style scoped>\n",
       "    .dataframe tbody tr th:only-of-type {\n",
       "        vertical-align: middle;\n",
       "    }\n",
       "\n",
       "    .dataframe tbody tr th {\n",
       "        vertical-align: top;\n",
       "    }\n",
       "\n",
       "    .dataframe thead th {\n",
       "        text-align: right;\n",
       "    }\n",
       "</style>\n",
       "<table border=\"1\" class=\"dataframe\">\n",
       "  <thead>\n",
       "    <tr style=\"text-align: right;\">\n",
       "      <th></th>\n",
       "      <th>PC1</th>\n",
       "      <th>PC2</th>\n",
       "      <th>FA</th>\n",
       "    </tr>\n",
       "  </thead>\n",
       "  <tbody>\n",
       "    <tr>\n",
       "      <th>0</th>\n",
       "      <td>-0.228194</td>\n",
       "      <td>-0.134454</td>\n",
       "      <td>FA12.0</td>\n",
       "    </tr>\n",
       "    <tr>\n",
       "      <th>1</th>\n",
       "      <td>-0.241140</td>\n",
       "      <td>-0.131242</td>\n",
       "      <td>FA14.0</td>\n",
       "    </tr>\n",
       "    <tr>\n",
       "      <th>2</th>\n",
       "      <td>-0.232184</td>\n",
       "      <td>0.165669</td>\n",
       "      <td>FA14.1.n.5</td>\n",
       "    </tr>\n",
       "    <tr>\n",
       "      <th>3</th>\n",
       "      <td>-0.160834</td>\n",
       "      <td>-0.267374</td>\n",
       "      <td>FA15.0</td>\n",
       "    </tr>\n",
       "    <tr>\n",
       "      <th>4</th>\n",
       "      <td>-0.046661</td>\n",
       "      <td>0.080202</td>\n",
       "      <td>FA16.0</td>\n",
       "    </tr>\n",
       "    <tr>\n",
       "      <th>5</th>\n",
       "      <td>-0.235143</td>\n",
       "      <td>0.214908</td>\n",
       "      <td>FA16.1n.7</td>\n",
       "    </tr>\n",
       "    <tr>\n",
       "      <th>6</th>\n",
       "      <td>-0.080997</td>\n",
       "      <td>-0.279933</td>\n",
       "      <td>FA16.2n.6</td>\n",
       "    </tr>\n",
       "    <tr>\n",
       "      <th>7</th>\n",
       "      <td>-0.005940</td>\n",
       "      <td>-0.046879</td>\n",
       "      <td>FA16.3n.6</td>\n",
       "    </tr>\n",
       "    <tr>\n",
       "      <th>8</th>\n",
       "      <td>0.157522</td>\n",
       "      <td>-0.125422</td>\n",
       "      <td>FA16.4n.3</td>\n",
       "    </tr>\n",
       "    <tr>\n",
       "      <th>9</th>\n",
       "      <td>0.240463</td>\n",
       "      <td>-0.020633</td>\n",
       "      <td>FA18.0</td>\n",
       "    </tr>\n",
       "    <tr>\n",
       "      <th>10</th>\n",
       "      <td>0.027517</td>\n",
       "      <td>-0.277075</td>\n",
       "      <td>FA18.1n.9</td>\n",
       "    </tr>\n",
       "    <tr>\n",
       "      <th>11</th>\n",
       "      <td>0.163846</td>\n",
       "      <td>0.200842</td>\n",
       "      <td>FA18.1n.7</td>\n",
       "    </tr>\n",
       "    <tr>\n",
       "      <th>12</th>\n",
       "      <td>0.067984</td>\n",
       "      <td>-0.342751</td>\n",
       "      <td>FA18.2n.6</td>\n",
       "    </tr>\n",
       "    <tr>\n",
       "      <th>13</th>\n",
       "      <td>0.155565</td>\n",
       "      <td>0.074234</td>\n",
       "      <td>FA18.3n.6</td>\n",
       "    </tr>\n",
       "    <tr>\n",
       "      <th>14</th>\n",
       "      <td>0.093342</td>\n",
       "      <td>-0.327302</td>\n",
       "      <td>FA18.3n.3</td>\n",
       "    </tr>\n",
       "    <tr>\n",
       "      <th>15</th>\n",
       "      <td>0.207767</td>\n",
       "      <td>-0.157276</td>\n",
       "      <td>FA18.4n.3</td>\n",
       "    </tr>\n",
       "    <tr>\n",
       "      <th>16</th>\n",
       "      <td>0.182780</td>\n",
       "      <td>-0.157238</td>\n",
       "      <td>FA20.0</td>\n",
       "    </tr>\n",
       "    <tr>\n",
       "      <th>17</th>\n",
       "      <td>0.153273</td>\n",
       "      <td>-0.224688</td>\n",
       "      <td>FA20.1n.11</td>\n",
       "    </tr>\n",
       "    <tr>\n",
       "      <th>18</th>\n",
       "      <td>0.184621</td>\n",
       "      <td>0.177813</td>\n",
       "      <td>FA20.1n.9</td>\n",
       "    </tr>\n",
       "    <tr>\n",
       "      <th>19</th>\n",
       "      <td>0.202289</td>\n",
       "      <td>0.142181</td>\n",
       "      <td>FA20.2</td>\n",
       "    </tr>\n",
       "    <tr>\n",
       "      <th>20</th>\n",
       "      <td>0.227929</td>\n",
       "      <td>0.155846</td>\n",
       "      <td>FA20.4n.6</td>\n",
       "    </tr>\n",
       "    <tr>\n",
       "      <th>21</th>\n",
       "      <td>0.156488</td>\n",
       "      <td>0.087039</td>\n",
       "      <td>FA20.3</td>\n",
       "    </tr>\n",
       "    <tr>\n",
       "      <th>22</th>\n",
       "      <td>0.246218</td>\n",
       "      <td>-0.077072</td>\n",
       "      <td>FA20.4n.3</td>\n",
       "    </tr>\n",
       "    <tr>\n",
       "      <th>23</th>\n",
       "      <td>0.238827</td>\n",
       "      <td>0.126288</td>\n",
       "      <td>FA20.5n.3</td>\n",
       "    </tr>\n",
       "    <tr>\n",
       "      <th>24</th>\n",
       "      <td>0.107791</td>\n",
       "      <td>-0.057282</td>\n",
       "      <td>FA22.0</td>\n",
       "    </tr>\n",
       "    <tr>\n",
       "      <th>25</th>\n",
       "      <td>0.116959</td>\n",
       "      <td>-0.296050</td>\n",
       "      <td>FA22.1n.11</td>\n",
       "    </tr>\n",
       "    <tr>\n",
       "      <th>26</th>\n",
       "      <td>0.131462</td>\n",
       "      <td>-0.065752</td>\n",
       "      <td>FA22.1n.9</td>\n",
       "    </tr>\n",
       "    <tr>\n",
       "      <th>27</th>\n",
       "      <td>0.245633</td>\n",
       "      <td>0.012202</td>\n",
       "      <td>FA21.5n.3</td>\n",
       "    </tr>\n",
       "    <tr>\n",
       "      <th>28</th>\n",
       "      <td>0.239396</td>\n",
       "      <td>0.093175</td>\n",
       "      <td>FA22.5n.3</td>\n",
       "    </tr>\n",
       "    <tr>\n",
       "      <th>29</th>\n",
       "      <td>0.253637</td>\n",
       "      <td>0.077595</td>\n",
       "      <td>FA22.6n.3</td>\n",
       "    </tr>\n",
       "    <tr>\n",
       "      <th>30</th>\n",
       "      <td>0.066548</td>\n",
       "      <td>-0.231462</td>\n",
       "      <td>FA24.1n.9</td>\n",
       "    </tr>\n",
       "  </tbody>\n",
       "</table>\n",
       "</div>"
      ],
      "text/plain": [
       "         PC1       PC2          FA\n",
       "0  -0.228194 -0.134454      FA12.0\n",
       "1  -0.241140 -0.131242      FA14.0\n",
       "2  -0.232184  0.165669  FA14.1.n.5\n",
       "3  -0.160834 -0.267374      FA15.0\n",
       "4  -0.046661  0.080202      FA16.0\n",
       "5  -0.235143  0.214908   FA16.1n.7\n",
       "6  -0.080997 -0.279933   FA16.2n.6\n",
       "7  -0.005940 -0.046879   FA16.3n.6\n",
       "8   0.157522 -0.125422   FA16.4n.3\n",
       "9   0.240463 -0.020633      FA18.0\n",
       "10  0.027517 -0.277075   FA18.1n.9\n",
       "11  0.163846  0.200842   FA18.1n.7\n",
       "12  0.067984 -0.342751   FA18.2n.6\n",
       "13  0.155565  0.074234   FA18.3n.6\n",
       "14  0.093342 -0.327302   FA18.3n.3\n",
       "15  0.207767 -0.157276   FA18.4n.3\n",
       "16  0.182780 -0.157238      FA20.0\n",
       "17  0.153273 -0.224688  FA20.1n.11\n",
       "18  0.184621  0.177813   FA20.1n.9\n",
       "19  0.202289  0.142181      FA20.2\n",
       "20  0.227929  0.155846   FA20.4n.6\n",
       "21  0.156488  0.087039      FA20.3\n",
       "22  0.246218 -0.077072   FA20.4n.3\n",
       "23  0.238827  0.126288   FA20.5n.3\n",
       "24  0.107791 -0.057282      FA22.0\n",
       "25  0.116959 -0.296050  FA22.1n.11\n",
       "26  0.131462 -0.065752   FA22.1n.9\n",
       "27  0.245633  0.012202   FA21.5n.3\n",
       "28  0.239396  0.093175   FA22.5n.3\n",
       "29  0.253637  0.077595   FA22.6n.3\n",
       "30  0.066548 -0.231462   FA24.1n.9"
      ]
     },
     "execution_count": 7,
     "metadata": {},
     "output_type": "execute_result"
    }
   ],
   "source": [
    "df_pc=pd.DataFrame()\n",
    "df_pc['PC1']=pca_model.components_[***] #eerste component\n",
    "df_pc['PC2']=pca_model.components_[***] #tweede component\n",
    "df_pc['FA']=*** #naam van de vetzuren\n",
    "df_pc #toon de dataframe"
   ]
  },
  {
   "cell_type": "code",
   "execution_count": 1,
   "id": "d060912c",
   "metadata": {},
   "outputs": [
    {
     "ename": "NameError",
     "evalue": "name 'ggplot' is not defined",
     "output_type": "error",
     "traceback": [
      "\u001b[1;31m---------------------------------------------------------------------------\u001b[0m",
      "\u001b[1;31mNameError\u001b[0m                                 Traceback (most recent call last)",
      "\u001b[1;32m~\\AppData\\Local\\Temp/ipykernel_6340/337884199.py\u001b[0m in \u001b[0;36m<module>\u001b[1;34m\u001b[0m\n\u001b[0;32m      1\u001b[0m \u001b[1;31m#plot\u001b[0m\u001b[1;33m\u001b[0m\u001b[1;33m\u001b[0m\u001b[1;33m\u001b[0m\u001b[0m\n\u001b[1;32m----> 2\u001b[1;33m \u001b[0mp\u001b[0m\u001b[1;33m=\u001b[0m\u001b[0mggplot\u001b[0m\u001b[1;33m(\u001b[0m\u001b[0maes\u001b[0m\u001b[1;33m(\u001b[0m\u001b[0mx\u001b[0m\u001b[1;33m=\u001b[0m\u001b[1;34m'PC1'\u001b[0m\u001b[1;33m,\u001b[0m \u001b[0my\u001b[0m\u001b[1;33m=\u001b[0m\u001b[1;34m'PC2'\u001b[0m\u001b[1;33m)\u001b[0m\u001b[1;33m,\u001b[0m \u001b[0mdata\u001b[0m\u001b[1;33m=\u001b[0m\u001b[0mdf_score\u001b[0m\u001b[1;33m)\u001b[0m\u001b[1;33m\u001b[0m\u001b[1;33m\u001b[0m\u001b[0m\n\u001b[0m\u001b[0;32m      3\u001b[0m \u001b[0mp\u001b[0m \u001b[1;33m+\u001b[0m \u001b[0mgeom_text\u001b[0m\u001b[1;33m(\u001b[0m\u001b[0maes\u001b[0m\u001b[1;33m(\u001b[0m\u001b[0mlabel\u001b[0m\u001b[1;33m=\u001b[0m\u001b[1;34m'FA'\u001b[0m\u001b[1;33m)\u001b[0m\u001b[1;33m)\u001b[0m \u001b[1;31m#plot de index\u001b[0m\u001b[1;33m\u001b[0m\u001b[1;33m\u001b[0m\u001b[0m\n",
      "\u001b[1;31mNameError\u001b[0m: name 'ggplot' is not defined"
     ]
    }
   ],
   "source": [
    "#plot\n",
    "p=ggplot(aes(x=***, y=***), data=***)\n",
    "p + geom_text(aes(label=***)) #plot de index"
   ]
  },
  {
   "cell_type": "markdown",
   "id": "54614e26",
   "metadata": {},
   "source": [
    "**2.4. Er bevinden zich 4 dolfijnen in de dataset die doodgeboren zijn, kan je hen identificeren?**\n",
    "\n",
    "De matplotlib oplossing wordt gegeven. Probeer een analoge figuur te maken met ggplot."
   ]
  },
  {
   "cell_type": "code",
   "execution_count": 2,
   "id": "cd3055dd",
   "metadata": {},
   "outputs": [
    {
     "ename": "NameError",
     "evalue": "name 'plt' is not defined",
     "output_type": "error",
     "traceback": [
      "\u001b[1;31m---------------------------------------------------------------------------\u001b[0m",
      "\u001b[1;31mNameError\u001b[0m                                 Traceback (most recent call last)",
      "\u001b[1;32m~\\AppData\\Local\\Temp/ipykernel_6340/321079832.py\u001b[0m in \u001b[0;36m<module>\u001b[1;34m\u001b[0m\n\u001b[0;32m      1\u001b[0m \u001b[1;31m#matplotlib oplossing\u001b[0m\u001b[1;33m\u001b[0m\u001b[1;33m\u001b[0m\u001b[1;33m\u001b[0m\u001b[0m\n\u001b[1;32m----> 2\u001b[1;33m \u001b[0mplt\u001b[0m\u001b[1;33m.\u001b[0m\u001b[0mscatter\u001b[0m\u001b[1;33m(\u001b[0m\u001b[0mx_new\u001b[0m\u001b[1;33m[\u001b[0m\u001b[1;33m:\u001b[0m\u001b[1;33m,\u001b[0m \u001b[1;36m0\u001b[0m\u001b[1;33m]\u001b[0m\u001b[1;33m,\u001b[0m \u001b[0mx_new\u001b[0m\u001b[1;33m[\u001b[0m\u001b[1;33m:\u001b[0m\u001b[1;33m,\u001b[0m \u001b[1;36m1\u001b[0m\u001b[1;33m]\u001b[0m\u001b[1;33m,\u001b[0m \u001b[0mmarker\u001b[0m\u001b[1;33m=\u001b[0m\u001b[1;32mNone\u001b[0m\u001b[1;33m)\u001b[0m\u001b[1;33m\u001b[0m\u001b[1;33m\u001b[0m\u001b[0m\n\u001b[0m\u001b[0;32m      3\u001b[0m \u001b[1;32mfor\u001b[0m \u001b[0mi\u001b[0m \u001b[1;32min\u001b[0m \u001b[0mrange\u001b[0m\u001b[1;33m(\u001b[0m\u001b[0mlen\u001b[0m\u001b[1;33m(\u001b[0m\u001b[0mx_new\u001b[0m\u001b[1;33m)\u001b[0m\u001b[1;33m)\u001b[0m\u001b[1;33m:\u001b[0m\u001b[1;33m\u001b[0m\u001b[1;33m\u001b[0m\u001b[0m\n\u001b[0;32m      4\u001b[0m     \u001b[0mplt\u001b[0m\u001b[1;33m.\u001b[0m\u001b[0mtext\u001b[0m\u001b[1;33m(\u001b[0m\u001b[0mx_new\u001b[0m\u001b[1;33m[\u001b[0m\u001b[0mi\u001b[0m\u001b[1;33m,\u001b[0m \u001b[1;36m0\u001b[0m\u001b[1;33m]\u001b[0m\u001b[1;33m,\u001b[0m \u001b[0mx_new\u001b[0m\u001b[1;33m[\u001b[0m\u001b[0mi\u001b[0m\u001b[1;33m,\u001b[0m \u001b[1;36m1\u001b[0m\u001b[1;33m]\u001b[0m\u001b[1;33m,\u001b[0m \u001b[0mi\u001b[0m\u001b[1;33m+\u001b[0m\u001b[1;36m1\u001b[0m\u001b[1;33m)\u001b[0m\u001b[1;33m\u001b[0m\u001b[1;33m\u001b[0m\u001b[0m\n",
      "\u001b[1;31mNameError\u001b[0m: name 'plt' is not defined"
     ]
    }
   ],
   "source": [
    "#matplotlib oplossing\n",
    "plt.scatter(x_new[:, 0], x_new[:, 1], marker=' ')\n",
    "for i in range(len(x_new)):\n",
    "    plt.text(x_new[i, 0], x_new[i, 1], i+1)"
   ]
  },
  {
   "cell_type": "code",
   "execution_count": 15,
   "id": "f45ff526",
   "metadata": {},
   "outputs": [
    {
     "data": {
      "image/png": "[encoded data removed]",
      "text/plain": [
       "<Figure size 640x480 with 1 Axes>"
      ]
     },
     "metadata": {},
     "output_type": "display_data"
    },
    {
     "data": {
      "text/plain": [
       "<ggplot: (-9223371902767749365)>"
      ]
     },
     "execution_count": 15,
     "metadata": {},
     "output_type": "execute_result"
    }
   ],
   "source": [
    "#plotnine\n",
    "df_score=pd.DataFrame()\n",
    "df_score['x1']=*** #eerste component\n",
    "df_score['x2']=*** #tweede component\n",
    "df_score['index']=***\n",
    "\n",
    "p=ggplot(aes(x=***, y=***), data=***)\n",
    "p + geom_text(aes(label=***)) #plot de index"
   ]
  },
  {
   "cell_type": "markdown",
   "id": "e30cc6ea",
   "metadata": {},
   "source": [
    "**3. Vergelijking van IGHV eiwitten**\n",
    "\n",
    "Immunoglobulin Heavy Chain Variable Region eiwitten (IGHV), maken deel uit van de zware\n",
    "keten in immunoglobulines, ook wel antilichamen genoemd. Samen met de lichte ketens herkennen deze lichaamsvreemde stoffen (antigenen) en helpen zo het immuunsysteem lichaamsvreemde stoffen uit het lichaam te verwijderen. Zowel de zware keten, als de lichte keten zijn telkens opgebouwd uit een onveranderlijk deel (constant region) en een variabel deel (variable\n",
    "region). De variabele regio heeft enkele hypervariabele delen die zorgen voor de specifieke herkenning van een bepaald antigen, en minder variabele delen die voor de secundaire structuur van het eiwit zorgen.\n",
    "\n",
    "We hebben enkele eiwitsequenties van de variabele regio’s voor menselijke IGHV’s (Homo\n",
    "sapiens, n = 15), IGHV’s in muis (Mus musculus, n = 3) en IGHV’s in orang-oetang (Pongo\n",
    "albelii, n = 3). We zijn ge¨ınteresseerd of deze eiwitten tussen de verschillende species veel\n",
    "verschillen vertonen. Je vindt de eiwitsequenties terug in **eiwitseq.fa**."
   ]
  },
  {
   "cell_type": "markdown",
   "id": "524c1652",
   "metadata": {},
   "source": [
    "**3.1 Lees de data in**"
   ]
  },
  {
   "cell_type": "code",
   "execution_count": 16,
   "id": "2292dda0",
   "metadata": {
    "scrolled": true
   },
   "outputs": [
    {
     "data": {
      "text/html": [
       "<div>\n",
       "<style scoped>\n",
       "    .dataframe tbody tr th:only-of-type {\n",
       "        vertical-align: middle;\n",
       "    }\n",
       "\n",
       "    .dataframe tbody tr th {\n",
       "        vertical-align: top;\n",
       "    }\n",
       "\n",
       "    .dataframe thead th {\n",
       "        text-align: right;\n",
       "    }\n",
       "</style>\n",
       "<table border=\"1\" class=\"dataframe\">\n",
       "  <thead>\n",
       "    <tr style=\"text-align: right;\">\n",
       "      <th></th>\n",
       "      <th>Soort</th>\n",
       "      <th>DNA</th>\n",
       "    </tr>\n",
       "  </thead>\n",
       "  <tbody>\n",
       "    <tr>\n",
       "      <th>0</th>\n",
       "      <td>PONAB</td>\n",
       "      <td>MDTLCYTLLLLTTPSWVLSQVTLKESGPALVKPTETLTLTCTVSGF...</td>\n",
       "    </tr>\n",
       "    <tr>\n",
       "      <th>1</th>\n",
       "      <td>PONAB</td>\n",
       "      <td>MDWTWMILFLVAAATGAHSQVQLVQSGAEVKKPGASVKFSCKASGY...</td>\n",
       "    </tr>\n",
       "    <tr>\n",
       "      <th>2</th>\n",
       "      <td>PONAB</td>\n",
       "      <td>EVQLVESGGGLVQPGGSLRLSCAASGFTFSDHYMDWVRQAPGKGLE...</td>\n",
       "    </tr>\n",
       "    <tr>\n",
       "      <th>3</th>\n",
       "      <td>MOUSE</td>\n",
       "      <td>MGWSCIMLFLAATATGVHFQVQLQQPGAELVKPGASVKLSSKASGY...</td>\n",
       "    </tr>\n",
       "    <tr>\n",
       "      <th>4</th>\n",
       "      <td>MOUSE</td>\n",
       "      <td>MGWSCIMLFLAATATGVHSQVQLQQPGAELVKPGASVKLSCKASGY...</td>\n",
       "    </tr>\n",
       "  </tbody>\n",
       "</table>\n",
       "</div>"
      ],
      "text/plain": [
       "   Soort                                                DNA\n",
       "0  PONAB  MDTLCYTLLLLTTPSWVLSQVTLKESGPALVKPTETLTLTCTVSGF...\n",
       "1  PONAB  MDWTWMILFLVAAATGAHSQVQLVQSGAEVKKPGASVKFSCKASGY...\n",
       "2  PONAB  EVQLVESGGGLVQPGGSLRLSCAASGFTFSDHYMDWVRQAPGKGLE...\n",
       "3  MOUSE  MGWSCIMLFLAATATGVHFQVQLQQPGAELVKPGASVKLSSKASGY...\n",
       "4  MOUSE  MGWSCIMLFLAATATGVHSQVQLQQPGAELVKPGASVKLSCKASGY..."
      ]
     },
     "execution_count": 16,
     "metadata": {},
     "output_type": "execute_result"
    }
   ],
   "source": [
    "url='https://raw.githubusercontent.com/ArneDeloose/Ugain_MachineLearning_DataVis/main/eiwitseq.fa'\n",
    "df=pd.read_csv(url)\n",
    "df.head()"
   ]
  },
  {
   "cell_type": "markdown",
   "id": "c817bd22",
   "metadata": {},
   "source": [
    "**3.2. Bepaal via een paarsgewijze vergelijking de Levenshtein afstand tussen de sequenties doormiddel van het jellyfish package.**"
   ]
  },
  {
   "cell_type": "code",
   "execution_count": 19,
   "id": "027b3b30",
   "metadata": {},
   "outputs": [],
   "source": [
    "n=df.shape[0] #aantal datapunten\n",
    "\n",
    "lev_matrix=np.zeros((***, ***), dtype='int') #alloceer resultaat\n",
    "\n",
    "for i in range(***):\n",
    "    for j in range(***):\n",
    "        lev_matrix[***, ***]=jellyfish.levenshtein_distance(df[***][***], df[***][***])"
   ]
  },
  {
   "cell_type": "markdown",
   "id": "8db8809d",
   "metadata": {},
   "source": [
    "**3.3. Voer een MDS analyse uit op de Levenshtein afstandsmatrix.**"
   ]
  },
  {
   "cell_type": "code",
   "execution_count": 20,
   "id": "057c2d56",
   "metadata": {},
   "outputs": [],
   "source": [
    "model_mds=MDS(dissimilarity=***)\n",
    "pos=model_mds.fit_transform(lev_matrix)"
   ]
  },
  {
   "cell_type": "markdown",
   "id": "7145fde9",
   "metadata": {},
   "source": [
    "**3.4. Maak een grafiek waarbij je de eiwit labels meegeeft en de punten kleurt per soort. Wat kan je hier uit besluiten?**"
   ]
  },
  {
   "cell_type": "code",
   "execution_count": 25,
   "id": "64f9d819",
   "metadata": {},
   "outputs": [
    {
     "data": {
      "image/png": "[encoded data removed]",
      "text/plain": [
       "<Figure size 640x480 with 1 Axes>"
      ]
     },
     "metadata": {},
     "output_type": "display_data"
    },
    {
     "data": {
      "text/plain": [
       "<ggplot: (-9223371902767510973)>"
      ]
     },
     "execution_count": 25,
     "metadata": {},
     "output_type": "execute_result"
    }
   ],
   "source": [
    "#plotnine\n",
    "df_mds=pd.DataFrame()\n",
    "df_mds['Dim1']=pos[***]\n",
    "df_mds['Dim2']=pos[***]\n",
    "df_mds['Soort']=*** #soort\n",
    "\n",
    "\n",
    "p=ggplot(aes(x=***, y=***), data=***)\n",
    "p + geom_point(aes(color=***))"
   ]
  },
  {
   "cell_type": "code",
   "execution_count": null,
   "id": "eadb1427",
   "metadata": {},
   "outputs": [],
   "source": []
  }
 ],
 "metadata": {
  "kernelspec": {
   "display_name": "Python 3 (ipykernel)",
   "language": "python",
   "name": "python3"
  },
  "language_info": {
   "codemirror_mode": {
    "name": "ipython",
    "version": 3
   },
   "file_extension": ".py",
   "mimetype": "text/x-python",
   "name": "python",
   "nbconvert_exporter": "python",
   "pygments_lexer": "ipython3",
   "version": "3.7.1"
  }
 },
 "nbformat": 4,
 "nbformat_minor": 5
}
